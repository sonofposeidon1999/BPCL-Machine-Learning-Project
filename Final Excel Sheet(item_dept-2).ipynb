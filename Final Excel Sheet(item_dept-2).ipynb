{
 "cells": [
  {
   "cell_type": "code",
   "execution_count": 2,
   "metadata": {},
   "outputs": [],
   "source": [
    "import pandas as pd\n",
    "item_req=pd.read_csv('/Users/admin/Desktop/Dream Hokage/BPCL Project/New item_requisition.csv',encoding=\"ISO-8859-1\",low_memory=False)\n",
    "dept_req=pd.read_csv('/Users/admin/Desktop/Dream Hokage/BPCL Project/New dept_requisition.csv',encoding=\"ISO-8859-1\",low_memory=False)"
   ]
  },
  {
   "cell_type": "code",
   "execution_count": 3,
   "metadata": {},
   "outputs": [],
   "source": [
    "#delete the rows where the item_code is numeric\n",
    "item_code=item_req['Item_Code']\n",
    "item_req=item_req[item_code.str.find('.')!=-1] "
   ]
  },
  {
   "cell_type": "code",
   "execution_count": 4,
   "metadata": {},
   "outputs": [],
   "source": [
    "#copy to new excel file\n",
    "item_req.to_csv('/Users/admin/Desktop/Dream Hokage/BPCL Project/New item_requisition-2.csv')"
   ]
  },
  {
   "cell_type": "code",
   "execution_count": 5,
   "metadata": {},
   "outputs": [],
   "source": [
    "#merging item_req and dept_req\n",
    "item_dept=item_req.merge(dept_req,on='Indent_No')"
   ]
  },
  {
   "cell_type": "code",
   "execution_count": 6,
   "metadata": {},
   "outputs": [],
   "source": [
    "#making a new excel file\n",
    "item_dept.to_csv('/Users/admin/Desktop/Dream Hokage/BPCL Project/Item_Dept.csv')"
   ]
  },
  {
   "cell_type": "code",
   "execution_count": 7,
   "metadata": {},
   "outputs": [],
   "source": [
    "#changing the date format to month and year\n",
    "date=item_dept['Indent_Date']\n",
    "date=date.str.split(\"/\")\n",
    "month=[]\n",
    "year=[]\n",
    "for i in range(len(date)):\n",
    "    month.append(date[i][0])\n",
    "    year.append(date[i][1])"
   ]
  },
  {
   "cell_type": "code",
   "execution_count": 8,
   "metadata": {
    "scrolled": true
   },
   "outputs": [],
   "source": [
    "item_dept=pd.read_csv('/Users/admin/Desktop/Dream Hokage/BPCL Project/Item_Dept -2.csv',encoding=\"ISO-8859-1\",low_memory=False)\n",
    "indent_month=item_dept['Indent_Month']\n",
    "indent_year=item_dept['Indent_Year']\n",
    "for i in range(len(item_dept['Indent_No'])):\n",
    "    indent_month[i]=month[i]"
   ]
  },
  {
   "cell_type": "code",
   "execution_count": 9,
   "metadata": {},
   "outputs": [],
   "source": [
    "item_dept.to_csv('/Users/admin/Desktop/Dream Hokage/BPCL Project/Item_Dept -2.csv')"
   ]
  },
  {
   "cell_type": "code",
   "execution_count": 10,
   "metadata": {},
   "outputs": [
    {
     "name": "stderr",
     "output_type": "stream",
     "text": [
      "C:\\Users\\admin\\Anaconda3\\lib\\site-packages\\ipykernel_launcher.py:4: SettingWithCopyWarning: \n",
      "A value is trying to be set on a copy of a slice from a DataFrame\n",
      "\n",
      "See the caveats in the documentation: http://pandas.pydata.org/pandas-docs/stable/indexing.html#indexing-view-versus-copy\n",
      "  after removing the cwd from sys.path.\n"
     ]
    }
   ],
   "source": [
    "item_dept=pd.read_csv('/Users/admin/Desktop/Dream Hokage/BPCL Project/Item_Dept -2.csv',encoding=\"ISO-8859-1\",low_memory=False)\n",
    "indent_year=item_dept['Indent_Year']\n",
    "for i in range(len(item_dept['Indent_No'])):\n",
    "    indent_year[i]=year[i]"
   ]
  },
  {
   "cell_type": "code",
   "execution_count": null,
   "metadata": {},
   "outputs": [],
   "source": []
  },
  {
   "cell_type": "code",
   "execution_count": null,
   "metadata": {},
   "outputs": [],
   "source": []
  },
  {
   "cell_type": "code",
   "execution_count": null,
   "metadata": {},
   "outputs": [],
   "source": []
  }
 ],
 "metadata": {
  "kernelspec": {
   "display_name": "Python 3",
   "language": "python",
   "name": "python3"
  },
  "language_info": {
   "codemirror_mode": {
    "name": "ipython",
    "version": 3
   },
   "file_extension": ".py",
   "mimetype": "text/x-python",
   "name": "python",
   "nbconvert_exporter": "python",
   "pygments_lexer": "ipython3",
   "version": "3.6.5"
  }
 },
 "nbformat": 4,
 "nbformat_minor": 2
}
