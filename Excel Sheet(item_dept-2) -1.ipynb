{
 "cells": [
  {
   "cell_type": "code",
   "execution_count": 38,
   "metadata": {},
   "outputs": [],
   "source": [
    "import pandas as pd\n",
    "item_req=pd.read_csv('/Users/admin/Desktop/Dream Hokage/BPCL Project/New item_requisition.csv',encoding=\"ISO-8859-1\",low_memory=False)\n",
    "dept_req=pd.read_csv('/Users/admin/Desktop/Dream Hokage/BPCL Project/New dept_requisition.csv',encoding=\"ISO-8859-1\",low_memory=False)"
   ]
  },
  {
   "cell_type": "code",
   "execution_count": 39,
   "metadata": {},
   "outputs": [],
   "source": [
    "#delete the rows where the item_code is numeric\n",
    "item_code=item_req['Item_Code']\n",
    "item_req=item_req[item_code.str.find('.')!=-1] "
   ]
  },
  {
   "cell_type": "code",
   "execution_count": 40,
   "metadata": {},
   "outputs": [],
   "source": [
    "#copy to new excel file\n",
    "item_req.to_csv('/Users/admin/Desktop/Dream Hokage/BPCL Project/New item_requisition-2.csv')"
   ]
  },
  {
   "cell_type": "code",
   "execution_count": 41,
   "metadata": {},
   "outputs": [],
   "source": [
    "#merging item_req and dept_req\n",
    "item_dept=item_req.merge(dept_req,on='Indent_No')"
   ]
  },
  {
   "cell_type": "code",
   "execution_count": 42,
   "metadata": {},
   "outputs": [],
   "source": [
    "#making a new excel file\n",
    "item_dept.to_csv('/Users/admin/Desktop/Dream Hokage/BPCL Project/Item_Dept.csv')"
   ]
  },
  {
   "cell_type": "code",
   "execution_count": 43,
   "metadata": {},
   "outputs": [],
   "source": [
    "#changing the date format to month\n",
    "date=item_dept['Indent_Date']\n",
    "date=date.str.split(\"/\")\n",
    "for i in range(len(date)):\n",
    "    date[i]=date[i][0]"
   ]
  },
  {
   "cell_type": "code",
   "execution_count": 44,
   "metadata": {},
   "outputs": [],
   "source": [
    "#loading the month format\n",
    "date.to_csv('/Users/admin/Desktop/Dream Hokage/BPCL Project/Date.csv')"
   ]
  },
  {
   "cell_type": "code",
   "execution_count": 46,
   "metadata": {},
   "outputs": [],
   "source": [
    "#merging item_dept and month\n",
    "item_dept=pd.read_csv('/Users/admin/Desktop/Dream Hokage/BPCL Project/Item_Dept -2.csv',encoding=\"ISO-8859-1\",low_memory=False)"
   ]
  },
  {
   "cell_type": "code",
   "execution_count": 47,
   "metadata": {},
   "outputs": [
    {
     "name": "stdout",
     "output_type": "stream",
     "text": [
      "       Indent_No       Item_Code  Qty_Called Dept_Code  Indent_Date\n",
      "0              2  93.53.10.118.0         100       MMP            9\n",
      "1              3  93.53.10.157.0         100       MMP            9\n",
      "2              5  93.10.10.017.0          20       ASF            9\n",
      "3              5  93.10.20.008.0           1       ASF            9\n",
      "4              5  93.10.20.015.0           3       ASF            9\n",
      "5              5  93.41.05.018.0          10       ASF            9\n",
      "6              5  93.41.05.022.0           2       ASF            9\n",
      "7              5  93.44.52.006.0          10       ASF            9\n",
      "8              5  93.53.10.118.0          25       ASF            9\n",
      "9              5  93.53.10.120.0          60       ASF            9\n",
      "10             5  93.53.10.135.0           4       ASF            9\n",
      "11             5  93.53.10.136.0           1       ASF            9\n",
      "12             5  93.53.10.139.0           4       ASF            9\n",
      "13             5  93.53.10.140.0           1       ASF            9\n",
      "14             5  93.53.10.142.0           5       ASF            9\n",
      "15             5  93.53.10.143.0           6       ASF            9\n",
      "16             5  93.53.10.157.0          10       ASF            9\n",
      "17             5  93.53.10.158.0          20       ASF            9\n",
      "18             5  93.54.10.010.0          10       ASF            9\n",
      "19             5  93.54.10.014.0           5       ASF            9\n",
      "20             5  93.55.60.118.0           1       ASF            9\n",
      "21             5  93.55.99.211.0           1       ASF            9\n",
      "22             5  93.55.99.219.0           1       ASF            9\n",
      "23             6  93.10.10.061.0           1       T&D            9\n",
      "24             6  93.53.10.110.0           3       T&D            9\n",
      "25             6  93.53.10.120.0          20       T&D            9\n",
      "26             6  93.53.10.136.0           6       T&D            9\n",
      "27             6  93.53.10.139.0           4       T&D            9\n",
      "28             6  93.53.10.143.0           6       T&D            9\n",
      "29             6  93.53.10.151.0         150       T&D            9\n",
      "...          ...             ...         ...       ...          ...\n",
      "55081      18983  93.10.10.013.0          15       PRD            6\n",
      "55082      18983  93.10.10.014.0          10       PRD            6\n",
      "55083      18983  93.10.20.012.0          10       PRD            6\n",
      "55084      18983  93.41.05.010.0           2       PRD            6\n",
      "55085      18983  93.41.05.018.0          10       PRD            6\n",
      "55086      18983  93.44.52.006.0          25       PRD            6\n",
      "55087      18983  93.53.10.120.0          60       PRD            6\n",
      "55088      18987  93.53.10.143.0          25       MMC            6\n",
      "55089      18988  93.53.10.120.0          10       ADE            6\n",
      "55090      18988  93.53.10.154.0           8       ADE            6\n",
      "55091      18990  93.10.10.011.0          50       ACT            6\n",
      "55092      18991  93.10.10.002.0          12       MAT            6\n",
      "55093      18991  93.10.10.013.0          20       MAT            6\n",
      "55094      18991  93.10.10.014.0          20       MAT            6\n",
      "55095      18991  93.10.10.017.0           2       MAT            6\n",
      "55096      18991  93.10.20.013.0          12       MAT            6\n",
      "55097      18991  93.44.52.012.0          30       MAT            6\n",
      "55098      18991  93.53.10.120.0          20       MAT            6\n",
      "55099      18992  93.55.60.118.0           2       OPS            6\n",
      "55100      18993  93.10.10.011.0           6       PRD            6\n",
      "55101      18993  93.53.10.120.0          10       PRD            6\n",
      "55102      18996  93.10.10.011.0          12       MKT            6\n",
      "55103      18996  93.10.20.015.0           5       MKT            6\n",
      "55104      18996  93.53.10.120.0          12       MKT            6\n",
      "55105      18996  93.53.10.142.0          12       MKT            6\n",
      "55106      18996  93.53.10.143.0          12       MKT            6\n",
      "55107      18997  93.53.10.118.0          50       HRD            6\n",
      "55108      18997  93.53.10.120.0          30       HRD            6\n",
      "55109      18998  93.10.20.002.0           2       MAT            6\n",
      "55110      18999  93.53.10.157.0           4       DRR            6\n",
      "\n",
      "[55111 rows x 5 columns]\n"
     ]
    }
   ],
   "source": [
    "print(item_dept)"
   ]
  },
  {
   "cell_type": "code",
   "execution_count": null,
   "metadata": {},
   "outputs": [],
   "source": []
  }
 ],
 "metadata": {
  "kernelspec": {
   "display_name": "Python 3",
   "language": "python",
   "name": "python3"
  },
  "language_info": {
   "codemirror_mode": {
    "name": "ipython",
    "version": 3
   },
   "file_extension": ".py",
   "mimetype": "text/x-python",
   "name": "python",
   "nbconvert_exporter": "python",
   "pygments_lexer": "ipython3",
   "version": "3.6.5"
  }
 },
 "nbformat": 4,
 "nbformat_minor": 2
}
